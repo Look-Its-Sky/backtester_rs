{
 "cells": [
  {
   "cell_type": "code",
   "execution_count": 189,
   "metadata": {},
   "outputs": [],
   "source": [
    "import backtester_rs\n",
    "import pandas as pd \n",
    "import numpy as np\n",
    "import pandas_ta as ta\n",
    "from pprint import pprint"
   ]
  },
  {
   "cell_type": "code",
   "execution_count": 190,
   "metadata": {},
   "outputs": [
    {
     "name": "stderr",
     "output_type": "stream",
     "text": [
      "/home/jude/miniconda3/envs/backtester_rs/lib/python3.12/site-packages/pandas/core/internals/blocks.py:393: RuntimeWarning: divide by zero encountered in log\n",
      "  result = func(self.values, **kwargs)\n"
     ]
    }
   ],
   "source": [
    "df = pd.read_feather('/home/jude/Nextcloud/Fin_data/crypto/ETH_USDT_USDT-15m-futures.feather')\n",
    "df.drop(columns={'date'}, inplace=True)\n",
    "\n",
    "df = np.log(df)\n",
    "\n",
    "df['signal'] = 0\n",
    "df = df[-100:]"
   ]
  },
  {
   "cell_type": "code",
   "execution_count": 191,
   "metadata": {},
   "outputs": [],
   "source": [
    "df['rsi'] = ta.rsi(df['close'], length=14)\n",
    "df['signal'] = np.where(\n",
    "    (df['rsi'] > 70),\n",
    "    1,\n",
    "    np.where(\n",
    "        (df['rsi'] < 30),\n",
    "        -1,\n",
    "        0\n",
    "    )\n",
    ")\n",
    "\n",
    "df.dropna(inplace=True)"
   ]
  },
  {
   "cell_type": "code",
   "execution_count": 192,
   "metadata": {},
   "outputs": [
    {
     "data": {
      "text/plain": [
       "{'position': 0.0, 'cash': 1000.0, 'pnl': 0.0}"
      ]
     },
     "execution_count": 192,
     "metadata": {},
     "output_type": "execute_result"
    }
   ],
   "source": [
    "# Convert\n",
    "df = df.to_dict()\n",
    "df_dict = {}\n",
    "for key in df:\n",
    "    df_dict[key] = list(df[key].values())\n",
    "\n",
    "results = backtester_rs.backtest(\n",
    "    ohlcv=df_dict,\n",
    "    signal_column='Signal',\n",
    "    starting_cash=1_000,\n",
    ")\n",
    "\n",
    "results"
   ]
  }
 ],
 "metadata": {
  "kernelspec": {
   "display_name": "backtester_rs",
   "language": "python",
   "name": "python3"
  },
  "language_info": {
   "codemirror_mode": {
    "name": "ipython",
    "version": 3
   },
   "file_extension": ".py",
   "mimetype": "text/x-python",
   "name": "python",
   "nbconvert_exporter": "python",
   "pygments_lexer": "ipython3",
   "version": "3.12.8"
  }
 },
 "nbformat": 4,
 "nbformat_minor": 2
}
